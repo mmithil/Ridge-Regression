{
 "cells": [
  {
   "cell_type": "markdown",
   "metadata": {},
   "source": [
    "# Title: Ridge Regression\n",
    "\n",
    "Author: Mithil Mangalore\n",
    "Date Start: 3rd Jan 2017\n"
   ]
  },
  {
   "cell_type": "markdown",
   "metadata": {},
   "source": [
    "Importing the required libraries:"
   ]
  },
  {
   "cell_type": "code",
   "execution_count": 52,
   "metadata": {
    "collapsed": true
   },
   "outputs": [],
   "source": [
    "import pandas as pd\n",
    "import numpy as np\n",
    "from sklearn import linear_model\n",
    "import matplotlib.pyplot as plt"
   ]
  },
  {
   "cell_type": "markdown",
   "metadata": {},
   "source": [
    "polynomial_sframs function: generates columns of data with powers from 1 to degree for a specific feature Series. It returns a DataFrame with (degree) columns each column \"power_i\" corresponding to the ith degree.    "
   ]
  },
  {
   "cell_type": "code",
   "execution_count": 12,
   "metadata": {
    "collapsed": true
   },
   "outputs": [],
   "source": [
    "def polynomial_dataframe(feature, degree): # feature is pandas.Series type\n",
    "    # assume that degree >= 1\n",
    "    # initialize the dataframe:\n",
    "    poly_dataframe = pd.DataFrame()\n",
    "    # and set poly_dataframe['power_1'] equal to the passed feature\n",
    "    poly_dataframe['power_1'] = feature\n",
    "    # first check if degree > 1\n",
    "    if degree > 1:\n",
    "        # then loop over the remaining degrees:\n",
    "        for power in range(2, degree+1):\n",
    "            # first we'll give the column a name:\n",
    "            name = 'power_' + str(power)\n",
    "            # assign poly_dataframe[name] to be feature^power; use apply(*)\n",
    "            poly_dataframe[name] = feature**power\n",
    "    return poly_dataframe"
   ]
  },
  {
   "cell_type": "markdown",
   "metadata": {},
   "source": [
    "Import kc_house_data.csv and sort the dataframe by (sqft_living, price):"
   ]
  },
  {
   "cell_type": "code",
   "execution_count": 13,
   "metadata": {
    "collapsed": false
   },
   "outputs": [],
   "source": [
    "dtype_dict = {'bathrooms':float, 'waterfront':int, 'sqft_above':int, \n",
    "              'sqft_living15':float, 'grade':int, 'yr_renovated':int, \n",
    "              'price':float, 'bedrooms':float, 'zipcode':str, \n",
    "              'long':float, 'sqft_lot15':float, 'sqft_living':float, \n",
    "              'floors':float, 'condition':int, 'lat':float, 'date':str, \n",
    "              'sqft_basement':int, 'yr_built':int, 'id':str, 'sqft_lot':int, 'view':int}\n",
    "\n",
    "sales = pd.read_csv('kc_house_data.csv', dtype=dtype_dict)\n",
    "sales = sales.sort_values(by = ['sqft_living','price'])"
   ]
  },
  {
   "cell_type": "markdown",
   "metadata": {},
   "source": [
    "Generate 15th order data for the sqft_living feature using the polynomial_dataframe function:"
   ]
  },
  {
   "cell_type": "code",
   "execution_count": 24,
   "metadata": {
    "collapsed": false
   },
   "outputs": [],
   "source": [
    "feature = sales['sqft_living']\n",
    "degree = 15\n",
    "poly_data_15 = polynomial_dataframe(feature, degree)"
   ]
  },
  {
   "cell_type": "markdown",
   "metadata": {},
   "source": [
    "When we have so many features and so few data points, the solution can become highly numerically unstable, which can sometimes lead to strange unpredictable results. Thus, rather than using no regularization, we will introduce a tiny amount of regularization (l2_penalty=1.5e-5) to make the solution numerically stable.\n",
    "\n",
    "Fit a linear model for the 15th degree dataframe:"
   ]
  },
  {
   "cell_type": "code",
   "execution_count": 36,
   "metadata": {
    "collapsed": false
   },
   "outputs": [
    {
     "name": "stdout",
     "output_type": "stream",
     "text": [
      "Intercept: \n",
      "220664.375054\n",
      "Coefficients: \n",
      "[  1.24873306e+02  -4.77376011e-02   3.01446238e-05  -2.44419942e-09\n",
      "  -1.94153675e-13   8.54085686e-18   1.51142121e-21   8.27979094e-26\n",
      "   6.52603100e-31  -3.27895017e-34  -3.87962315e-38  -2.72437650e-42\n",
      "  -1.07790800e-46   3.78242694e-51   1.39790296e-54]\n"
     ]
    }
   ],
   "source": [
    "l2_small_penalty = 1.5e-5 \n",
    "model = linear_model.Ridge(alpha=l2_small_penalty, normalize=True)\n",
    "model.fit(poly_data_15, sales['price'])\n",
    "print \"Intercept: \\n\" + str(model.intercept_)\n",
    "print \"Coefficients: \\n\" + str(model.coef_)"
   ]
  },
  {
   "cell_type": "markdown",
   "metadata": {},
   "source": [
    "Import split data to check for variance in coefficients fit on different data:"
   ]
  },
  {
   "cell_type": "code",
   "execution_count": 37,
   "metadata": {
    "collapsed": true
   },
   "outputs": [],
   "source": [
    "set_1 = pd.read_csv('wk3_kc_house_set_1_data.csv', dtype=dtype_dict)\n",
    "set_2 = pd.read_csv('wk3_kc_house_set_2_data.csv', dtype=dtype_dict)\n",
    "set_3 = pd.read_csv('wk3_kc_house_set_3_data.csv', dtype=dtype_dict)\n",
    "set_4 = pd.read_csv('wk3_kc_house_set_4_data.csv', dtype=dtype_dict)"
   ]
  },
  {
   "cell_type": "markdown",
   "metadata": {},
   "source": [
    "Fitting a 15 degree polinomial for all the 4 dataframes. Fit models for all four dataframes and store the models in model_x list:"
   ]
  },
  {
   "cell_type": "code",
   "execution_count": 54,
   "metadata": {
    "collapsed": false
   },
   "outputs": [
    {
     "name": "stdout",
     "output_type": "stream",
     "text": [
      "1\n",
      "Intercept: \n",
      "23888.8196855\n",
      "Coefficients: \n",
      "[  5.44669415e+02  -3.55447622e-01   1.22446389e-04  -1.17175330e-08\n",
      "  -3.90512409e-13  -1.39076037e-17   1.47860278e-20   6.87491658e-25\n",
      "  -7.57203881e-29  -1.04097302e-32  -3.71844073e-37   3.39989349e-41\n",
      "   5.56591960e-45   2.53761327e-49  -3.35152872e-53]\n",
      "2\n",
      "Intercept: \n",
      "-55614.6326338\n",
      "Coefficients: \n",
      "[  8.59362621e+02  -8.18118239e-01   4.28879956e-04  -9.12770557e-08\n",
      "  -2.69604615e-12   3.73980317e-15  -1.42711857e-19  -6.30794783e-23\n",
      "  -1.44559533e-27   7.44321284e-31   9.25865970e-35   3.27995343e-41\n",
      "  -1.29543496e-42  -1.38781257e-46   1.66546442e-50]\n",
      "3\n",
      "Intercept: \n",
      "470987.870264\n",
      "Coefficients: \n",
      "[ -7.55395951e+02   9.75579528e-01  -4.58946002e-04   7.77958122e-08\n",
      "   7.15013291e-12  -2.88601962e-15  -2.13678316e-20   3.38085242e-23\n",
      "   2.19178184e-27  -1.97067757e-31  -4.15993156e-35  -1.80196240e-39\n",
      "   3.19071197e-43   5.08456935e-47  -3.93304278e-51]\n",
      "4\n",
      "Intercept: \n",
      "-145655.619966\n",
      "Coefficients: \n",
      "[  1.11944571e+03  -9.83760211e-01   3.38770895e-04   3.60377203e-08\n",
      "  -4.37814001e-11   5.77191610e-15   7.66795376e-19  -9.49297755e-23\n",
      "  -1.96030822e-26  -2.10881744e-32   3.31005080e-34   3.47733902e-38\n",
      "  -2.43039275e-42  -8.79553341e-46   6.44569723e-50]\n"
     ]
    }
   ],
   "source": [
    "l2_small_penalty = 1e-9\n",
    "models = []\n",
    "set_x = []\n",
    "model_x = []\n",
    "poly_data_15_x = []\n",
    "for i in range(1,5):\n",
    "    print str(i)\n",
    "    path = 'wk3_kc_house_set_'+str(i)+'_data.csv'\n",
    "    set_x.append(pd.read_csv(path, dtype=dtype_dict))\n",
    "    poly_data_15_x.append(polynomial_dataframe(set_x[i-1]['sqft_living'],degree))\n",
    "    model_x.append(linear_model.Ridge(alpha=l2_small_penalty, normalize=True))\n",
    "    model_x[i-1].fit(poly_data_15_x[i-1], set_x[i-1]['price'])\n",
    "    print \"Intercept: \\n\" + str(model_x[i-1].intercept_)\n",
    "    print \"Coefficients: \\n\" + str(model_x[i-1].coef_)"
   ]
  },
  {
   "cell_type": "markdown",
   "metadata": {},
   "source": [
    "Visualizing model 1:"
   ]
  },
  {
   "cell_type": "code",
   "execution_count": 63,
   "metadata": {
    "collapsed": false
   },
   "outputs": [
    {
     "data": {
      "text/plain": [
       "[<matplotlib.lines.Line2D at 0x216f7198>,\n",
       " <matplotlib.lines.Line2D at 0x216f7780>]"
      ]
     },
     "execution_count": 63,
     "metadata": {},
     "output_type": "execute_result"
    },
    {
     "data": {
      "image/png": "[encoded data removed]",
      "text/plain": [
       "<matplotlib.figure.Figure at 0x2140ec18>"
      ]
     },
     "metadata": {},
     "output_type": "display_data"
    }
   ],
   "source": [
    "%matplotlib inline\n",
    "\n",
    "plt.plot(poly_data_15_x[0]['power_1'],set_x[0]['price'],'.',\n",
    "poly_data_15_x[0]['power_1'], model_x[0].predict(poly_data_15_x[0]),'-')"
   ]
  },
  {
   "cell_type": "markdown",
   "metadata": {},
   "source": [
    "Visualizing Model 2:"
   ]
  },
  {
   "cell_type": "code",
   "execution_count": 64,
   "metadata": {
    "collapsed": false
   },
   "outputs": [
    {
     "data": {
      "text/plain": [
       "[<matplotlib.lines.Line2D at 0x2154c748>,\n",
       " <matplotlib.lines.Line2D at 0x21557358>]"
      ]
     },
     "execution_count": 64,
     "metadata": {},
     "output_type": "execute_result"
    },
    {
     "data": {
      "image/png": "[encoded data removed]",
      "text/plain": [
       "<matplotlib.figure.Figure at 0x2173df98>"
      ]
     },
     "metadata": {},
     "output_type": "display_data"
    }
   ],
   "source": [
    "plt.plot(poly_data_15_x[1]['power_1'],set_x[1]['price'],'.',\n",
    "poly_data_15_x[1]['power_1'], model_x[1].predict(poly_data_15_x[1]),'-')\n"
   ]
  },
  {
   "cell_type": "markdown",
   "metadata": {},
   "source": [
    "Visualize Model 3:"
   ]
  },
  {
   "cell_type": "code",
   "execution_count": 65,
   "metadata": {
    "collapsed": false
   },
   "outputs": [
    {
     "data": {
      "text/plain": [
       "[<matplotlib.lines.Line2D at 0x2154c0f0>,\n",
       " <matplotlib.lines.Line2D at 0x2154c828>]"
      ]
     },
     "execution_count": 65,
     "metadata": {},
     "output_type": "execute_result"
    },
    {
     "data": {
      "image/png": "[encoded data removed]",
      "text/plain": [
       "<matplotlib.figure.Figure at 0x21e25e48>"
      ]
     },
     "metadata": {},
     "output_type": "display_data"
    }
   ],
   "source": [
    "plt.plot(poly_data_15_x[2]['power_1'],set_x[2]['price'],'.',\n",
    "poly_data_15_x[2]['power_1'], model_x[2].predict(poly_data_15_x[2]),'-')"
   ]
  },
  {
   "cell_type": "markdown",
   "metadata": {},
   "source": [
    "Visualize Model 4:"
   ]
  },
  {
   "cell_type": "code",
   "execution_count": 66,
   "metadata": {
    "collapsed": false
   },
   "outputs": [
    {
     "data": {
      "text/plain": [
       "[<matplotlib.lines.Line2D at 0x21b0b320>,\n",
       " <matplotlib.lines.Line2D at 0x21c422e8>]"
      ]
     },
     "execution_count": 66,
     "metadata": {},
     "output_type": "execute_result"
    },
    {
     "data": {
      "image/png": "[encoded data removed]",
      "text/plain": [
       "<matplotlib.figure.Figure at 0x22525208>"
      ]
     },
     "metadata": {},
     "output_type": "display_data"
    }
   ],
   "source": [
    "plt.plot(poly_data_15_x[3]['power_1'],set_x[3]['price'],'.',\n",
    "poly_data_15_x[3]['power_1'], model_x[3].predict(poly_data_15_x[3]),'-')"
   ]
  },
  {
   "cell_type": "markdown",
   "metadata": {},
   "source": [
    "Fit the models again with a larger l2_large_penalty:"
   ]
  },
  {
   "cell_type": "code",
   "execution_count": 67,
   "metadata": {
    "collapsed": false
   },
   "outputs": [
    {
     "name": "stdout",
     "output_type": "stream",
     "text": [
      "1\n",
      "Intercept: \n",
      "539103.031058\n",
      "Coefficients: \n",
      "[  2.32806803e+00   3.53621608e-04   3.31969692e-08   2.00082477e-12\n",
      "   1.11492559e-16   6.57786122e-21   4.12939525e-25   2.70393755e-29\n",
      "   1.81614763e-33   1.23824277e-37   8.51872481e-42   5.89455598e-46\n",
      "   4.09542560e-50   2.85464889e-54   1.99547476e-58]\n",
      "2\n",
      "Intercept: \n",
      "529853.025358\n",
      "Coefficients: \n",
      "[  2.09756903e+00   3.90817483e-04   6.67189944e-08   8.90002997e-12\n",
      "   9.72639877e-16   9.69733682e-20   9.50564475e-24   9.44491031e-28\n",
      "   9.57191338e-32   9.86945155e-36   1.03101115e-39   1.08729784e-43\n",
      "   1.15453748e-47   1.23211305e-51   1.31986696e-55]\n",
      "3\n",
      "Intercept: \n",
      "533640.114097\n",
      "Coefficients: \n",
      "[  2.28906258e+00   4.12472190e-04   6.08835345e-08   6.58572163e-12\n",
      "   6.15278155e-16   5.64446634e-20   5.28834396e-24   5.07091402e-28\n",
      "   4.94657273e-32   4.88043809e-36   4.85009106e-40   4.84161534e-44\n",
      "   4.84635021e-48   4.85883628e-52   4.87558469e-56]\n",
      "4\n",
      "Intercept: \n",
      "524562.969047\n",
      "Coefficients: \n",
      "[  2.08596194e+00   4.05035772e-04   7.46864647e-08   1.13096608e-11\n",
      "   1.45864442e-15   1.73561251e-19   2.01609632e-23   2.34605255e-27\n",
      "   2.75636073e-31   3.27043069e-35   3.91046855e-39   4.70118041e-43\n",
      "   5.67212304e-47   6.85958087e-51   8.30843630e-55]\n"
     ]
    }
   ],
   "source": [
    "l2_large_penalty=1.23e2\n",
    "models = []\n",
    "set_x = []\n",
    "model_x = []\n",
    "poly_data_15_x = []\n",
    "for i in range(1,5):\n",
    "    print str(i)\n",
    "    path = 'wk3_kc_house_set_'+str(i)+'_data.csv'\n",
    "    set_x.append(pd.read_csv(path, dtype=dtype_dict))\n",
    "    poly_data_15_x.append(polynomial_dataframe(set_x[i-1]['sqft_living'],degree))\n",
    "    model_x.append(linear_model.Ridge(alpha=l2_large_penalty, normalize=True))\n",
    "    model_x[i-1].fit(poly_data_15_x[i-1], set_x[i-1]['price'])\n",
    "    print \"Intercept: \\n\" + str(model_x[i-1].intercept_)\n",
    "    print \"Coefficients: \\n\" + str(model_x[i-1].coef_)"
   ]
  }
 ],
 "metadata": {
  "kernelspec": {
   "display_name": "Python 2",
   "language": "python",
   "name": "python2"
  },
  "language_info": {
   "codemirror_mode": {
    "name": "ipython",
    "version": 2
   },
   "file_extension": ".py",
   "mimetype": "text/x-python",
   "name": "python",
   "nbconvert_exporter": "python",
   "pygments_lexer": "ipython2",
   "version": "2.7.12"
  }
 },
 "nbformat": 4,
 "nbformat_minor": 0
}
